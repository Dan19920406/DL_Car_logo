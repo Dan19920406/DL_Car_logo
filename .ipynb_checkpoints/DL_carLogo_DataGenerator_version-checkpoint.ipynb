{
 "cells": [
  {
   "cell_type": "code",
   "execution_count": 15,
   "id": "ecological-sussex",
   "metadata": {},
   "outputs": [
    {
     "name": "stdout",
     "output_type": "stream",
     "text": [
      "Kia * 490 times.\n",
      "Dacia * 363 times.\n",
      "Volkswagen * 644 times.\n",
      "Lada * 354 times.\n",
      "Mercedes * 698 times.\n",
      "Nissan * 538 times.\n",
      "Toyota * 615 times.\n",
      "Suzuki * 467 times.\n",
      "Jaguar * 404 times.\n",
      "Ferrari * 645 times.\n",
      "Tata * 303 times.\n",
      "Audi * 744 times.\n",
      "Land Rover * 656 times.\n",
      "Renault * 632 times.\n",
      "Opel * 593 times.\n",
      "Chevrolet * 663 times.\n",
      "Dodge * 316 times.\n",
      "Jeep * 500 times.\n",
      "Lexus * 612 times.\n",
      "Volvo * 406 times.\n",
      "Mitsubishi * 585 times.\n",
      "Ford * 667 times.\n",
      "Maserati * 561 times.\n",
      "Seat * 374 times.\n",
      "Skoda * 551 times.\n",
      "Fiat * 493 times.\n",
      "Peugeot * 605 times.\n",
      "Rover * 126 times.\n",
      "Porsche * 584 times.\n",
      "Tesla * 559 times.\n",
      "Hyundai * 488 times.\n",
      "Citroen * 438 times.\n",
      "Mazda * 484 times.\n",
      "Honda * 456 times.\n",
      "Daewoo * 318 times.\n",
      "Subaru * 501 times.\n",
      "Saab * 431 times.\n",
      "Alfa Romeo * 852 times.\n",
      "Lancia * 460 times.\n",
      "BMW * 602 times.\n"
     ]
    }
   ],
   "source": [
    "#Count each brand how many picture they are\n",
    "import os\n",
    "import re\n",
    "\n",
    "brand_total = list()\n",
    "brand_set = list()\n",
    "\n",
    "original_data = r'/Users/dan/Desktop/DL_Car_logo/car_brand_pic' #original dataset dir path\n",
    "for f in os.listdir(original_data):\n",
    "    brand_total.append(re.split(r'[0-9]+_',f)[0])\n",
    "    \n",
    "brand_set = set(brand_total)\n",
    "for b in brand_set:\n",
    "    c = brand_total.count(b)\n",
    "    print(f'{b} * {c} times.')"
   ]
  },
  {
   "cell_type": "code",
   "execution_count": null,
   "id": "checked-division",
   "metadata": {},
   "outputs": [],
   "source": [
    "#Make dir and classify the dataset\n",
    "base_dir = r'/Users/dan/Desktop/DL_Car_logo/dataset' #base dir path for classification data\n",
    "\n",
    "train_dir = os.path.join(base_dir, 'train')\n",
    "if not os.isdir(train_dir):\n",
    "    os.mkdir(train_dir)\n",
    "    \n",
    "vailidation_dir = os.path.join(base_dir, 'vailidation')\n",
    "if not os.isdir(vailidation_dir):\n",
    "    os.mkdir(vailidation_dir)\n",
    "\n",
    "test_dir = os.path.join(base_dir, 'test')\n",
    "if not os.isdir(test_dir):\n",
    "    os.mkdir(test_dir)\n",
    "    \n",
    "for b in brand_set:\n",
    "    if not os.isdir(os.path.join(train_dir, b)):\n",
    "        os.mkdir(os.path.join(train_dir, b))\n",
    "    \n",
    "    if not os.isdir(os.path.join(vailidation_dir, b)):\n",
    "        os.mkdir(os.path.join(vailidation_dir, b))\n",
    "    \n",
    "    if not os.isdir(os.path.join(test_dir, b)):\n",
    "        os.mkdir(os.path.join(test_dir, b))\n",
    "        \n"
   ]
  }
 ],
 "metadata": {
  "kernelspec": {
   "display_name": "Python 3",
   "language": "python",
   "name": "python3"
  },
  "language_info": {
   "codemirror_mode": {
    "name": "ipython",
    "version": 3
   },
   "file_extension": ".py",
   "mimetype": "text/x-python",
   "name": "python",
   "nbconvert_exporter": "python",
   "pygments_lexer": "ipython3",
   "version": "3.8.2"
  }
 },
 "nbformat": 4,
 "nbformat_minor": 5
}
